{
 "cells": [
  {
   "cell_type": "markdown",
   "metadata": {},
   "source": [
    "# Running Oktoberfest"
   ]
  },
  {
   "cell_type": "markdown",
   "metadata": {},
   "source": [
    "## 1- Import necessary python packages"
   ]
  },
  {
   "cell_type": "code",
   "execution_count": null,
   "metadata": {},
   "outputs": [],
   "source": [
    "import os\n",
    "from oktoberfest.runner import run_job\n",
    "import json\n",
    "import urllib.request\n",
    "import shutil"
   ]
  },
  {
   "cell_type": "markdown",
   "metadata": {},
   "source": [
    "## 2- Download files from zenodo required to run different tasks"
   ]
  },
  {
   "cell_type": "markdown",
   "metadata": {},
   "source": [
    "### A- Get the current directory"
   ]
  },
  {
   "cell_type": "code",
   "execution_count": null,
   "metadata": {},
   "outputs": [],
   "source": [
    "download_dir = os.getcwd()"
   ]
  },
  {
   "cell_type": "markdown",
   "metadata": {},
   "source": [
    "### B- Download files from zenodo to the same directory"
   ]
  },
  {
   "cell_type": "code",
   "execution_count": null,
   "metadata": {},
   "outputs": [],
   "source": [
    "input_download = os.path.join(download_dir, 'Oktoberfest_input.zip')\n",
    "urllib.request.urlretrieve('https://zenodo.org/record/7613029/files/Oktoberfest_input.zip', input_download)"
   ]
  },
  {
   "cell_type": "markdown",
   "metadata": {},
   "source": [
    "### C- Extract the downloaded file in the same directory"
   ]
  },
  {
   "cell_type": "code",
   "execution_count": null,
   "metadata": {},
   "outputs": [],
   "source": [
    "shutil.unpack_archive(input_download, download_dir)\n",
    "input_dir = input_download.replace('.zip', '')"
   ]
  },
  {
   "cell_type": "markdown",
   "metadata": {},
   "source": [
    "## 3- Running Different Tasks"
   ]
  },
  {
   "cell_type": "markdown",
   "metadata": {},
   "source": [
    "### A- Spectral Library Generation"
   ]
  },
  {
   "cell_type": "markdown",
   "metadata": {},
   "source": [
    "#### Generate config file"
   ]
  },
  {
   "cell_type": "code",
   "execution_count": null,
   "metadata": {},
   "outputs": [],
   "source": [
    "task_config_spectral_lib = {\n",
    "    \"type\":\"SpectralLibraryGeneration\",\n",
    "    \"tag\":\"\",\n",
    "    \"fileUploads\":{\n",
    "        \"search_type\":'',\n",
    "        \"raw_type\":'',\n",
    "        \"fasta\":False,\n",
    "        \"peptides.csv\":True\n",
    "    },\n",
    "    \"models\":{\n",
    "        \"intensity\":'Prosit_2020_intensity_hcd',\n",
    "        \"irt\":'Prosit_2019_irt'\n",
    "    },\n",
    "    \"outputFormat\":\"spectronaut\",\n",
    "    \"prosit_server\":\"proteomicsdb.org:8500\"\n",
    "}"
   ]
  },
  {
   "cell_type": "markdown",
   "metadata": {},
   "source": [
    "#### Save config as json"
   ]
  },
  {
   "cell_type": "code",
   "execution_count": null,
   "metadata": {},
   "outputs": [],
   "source": [
    "with open(input_dir + '/spectral_library_config.json', 'w') as fp:\n",
    "    json.dump(task_config_spectral_lib, fp)"
   ]
  },
  {
   "cell_type": "markdown",
   "metadata": {},
   "source": [
    "#### Run spectral library generation job"
   ]
  },
  {
   "cell_type": "code",
   "execution_count": null,
   "metadata": {},
   "outputs": [],
   "source": [
    "config_path = os.path.join(input_dir, \"spectral_library_config.json\")\n",
    "run_job(input_dir, config_path)"
   ]
  },
  {
   "cell_type": "markdown",
   "metadata": {},
   "source": [
    "### B- CE Calibration"
   ]
  },
  {
   "cell_type": "markdown",
   "metadata": {},
   "source": [
    "#### Generate config file"
   ]
  },
  {
   "cell_type": "code",
   "execution_count": null,
   "metadata": {},
   "outputs": [],
   "source": [
    "task_config_ce_calibration = {\n",
    "    \"type\":\"CollisionEnergyCalibration\",\n",
    "    \"tag\":\"\",\n",
    "    \"fileUploads\":{\n",
    "        \"search_type\":'Maxquant',\n",
    "        \"raw_type\":'thermo',\n",
    "        \"fasta\":False,\n",
    "        \"peptides.csv\":False\n",
    "    },\n",
    "    \"models\":{\n",
    "        \"intensity\":'Prosit_2020_intensity_hcd',\n",
    "        \"irt\":'Prosit_2019_irt'\n",
    "    },\n",
    "    \"outputFormat\":\"\",\n",
    "    \"prosit_server\":\"proteomicsdb.org:8500\"\n",
    "}"
   ]
  },
  {
   "cell_type": "markdown",
   "metadata": {},
   "source": [
    "#### Save config as json"
   ]
  },
  {
   "cell_type": "code",
   "execution_count": null,
   "metadata": {},
   "outputs": [],
   "source": [
    "with open(input_dir + '/ce_calibration_config.json', 'w') as fp:\n",
    "    json.dump(task_config_ce_calibration, fp)"
   ]
  },
  {
   "cell_type": "markdown",
   "metadata": {},
   "source": [
    "#### Run ce calibration job"
   ]
  },
  {
   "cell_type": "code",
   "execution_count": null,
   "metadata": {},
   "outputs": [],
   "source": [
    "config_path = os.path.join(input_dir, \"ce_calibration_config.json\")\n",
    "run_job(download_dir, config_path)"
   ]
  },
  {
   "cell_type": "markdown",
   "metadata": {},
   "source": [
    "### C- Rescoring"
   ]
  },
  {
   "cell_type": "markdown",
   "metadata": {},
   "source": [
    "#### Generate config file"
   ]
  },
  {
   "cell_type": "code",
   "execution_count": null,
   "metadata": {},
   "outputs": [],
   "source": [
    "task_config_rescoring = {\n",
    "    \"type\":\"Rescoring\",\n",
    "    \"tag\":\"\",\n",
    "    \"fileUploads\":{\n",
    "        \"search_type\":'Maxquant',\n",
    "        \"raw_type\":'thermo',\n",
    "        \"fasta\":False,\n",
    "        \"peptides.csv\":False\n",
    "    },\n",
    "    \"models\":{\n",
    "        \"intensity\":'Prosit_2020_intensity_hcd',\n",
    "        \"irt\":'Prosit_2019_irt'\n",
    "    },\n",
    "    \"outputFormat\":\"\",\n",
    "    \"prosit_server\":\"proteomicsdb.org:8500\",\n",
    "    \"numThreads\": 4\n",
    "}"
   ]
  },
  {
   "cell_type": "markdown",
   "metadata": {},
   "source": [
    "#### Save config as json"
   ]
  },
  {
   "cell_type": "code",
   "execution_count": null,
   "metadata": {},
   "outputs": [],
   "source": [
    "with open(input_dir + '/rescoring_config.json', 'w') as fp:\n",
    "    json.dump(task_config_rescoring, fp)"
   ]
  },
  {
   "cell_type": "markdown",
   "metadata": {},
   "source": [
    "#### Run rescoring job"
   ]
  },
  {
   "cell_type": "code",
   "execution_count": null,
   "metadata": {},
   "outputs": [],
   "source": [
    "config_path = os.path.join(input_dir, \"rescoring_config.json\")\n",
    "run_job(download_dir, config_path)"
   ]
  }
 ],
 "metadata": {
  "kernelspec": {
   "display_name": "Python 3 (ipykernel)",
   "language": "python",
   "name": "python3"
  },
  "language_info": {
   "codemirror_mode": {
    "name": "ipython",
    "version": 3
   },
   "file_extension": ".py",
   "mimetype": "text/x-python",
   "name": "python",
   "nbconvert_exporter": "python",
   "pygments_lexer": "ipython3",
   "version": "3.8.16"
  }
 },
 "nbformat": 4,
 "nbformat_minor": 4
}
